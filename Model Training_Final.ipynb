{
  "cells": [
    {
      "cell_type": "markdown",
      "id": "08Ol2_Ng38bH",
      "metadata": {
        "id": "08Ol2_Ng38bH"
      },
      "source": [
        "**Importing the Require Packages**"
      ]
    },
    {
      "cell_type": "code",
      "execution_count": null,
      "id": "0yryNmX636OX",
      "metadata": {
        "colab": {
          "base_uri": "https://localhost:8080/"
        },
        "id": "0yryNmX636OX",
        "outputId": "73e3cbfc-8e75-4332-9a70-3e45c372389c"
      },
      "outputs": [
        {
          "name": "stdout",
          "output_type": "stream",
          "text": [
            "Looking in indexes: https://pypi.org/simple, https://us-python.pkg.dev/colab-wheels/public/simple/\n",
            "Requirement already satisfied: cvlib in /usr/local/lib/python3.9/dist-packages (0.2.7)\n",
            "Requirement already satisfied: progressbar in /usr/local/lib/python3.9/dist-packages (from cvlib) (2.5)\n",
            "Requirement already satisfied: imutils in /usr/local/lib/python3.9/dist-packages (from cvlib) (0.5.4)\n",
            "Requirement already satisfied: imageio in /usr/local/lib/python3.9/dist-packages (from cvlib) (2.25.1)\n",
            "Requirement already satisfied: numpy in /usr/local/lib/python3.9/dist-packages (from cvlib) (1.22.4)\n",
            "Requirement already satisfied: requests in /usr/local/lib/python3.9/dist-packages (from cvlib) (2.27.1)\n",
            "Requirement already satisfied: pillow in /usr/local/lib/python3.9/dist-packages (from cvlib) (8.4.0)\n",
            "Requirement already satisfied: urllib3<1.27,>=1.21.1 in /usr/local/lib/python3.9/dist-packages (from requests->cvlib) (1.26.15)\n",
            "Requirement already satisfied: charset-normalizer~=2.0.0 in /usr/local/lib/python3.9/dist-packages (from requests->cvlib) (2.0.12)\n",
            "Requirement already satisfied: certifi>=2017.4.17 in /usr/local/lib/python3.9/dist-packages (from requests->cvlib) (2022.12.7)\n",
            "Requirement already satisfied: idna<4,>=2.5 in /usr/local/lib/python3.9/dist-packages (from requests->cvlib) (3.4)\n"
          ]
        }
      ],
      "source": [
        "pip install cvlib"
      ]
    },
    {
      "cell_type": "code",
      "execution_count": null,
      "id": "0tioYZQvpdFc",
      "metadata": {
        "id": "0tioYZQvpdFc"
      },
      "outputs": [],
      "source": [
        "import os\n",
        "import numpy as np\n",
        "import cv2\n",
        "# import face_recognition as fr\n",
        "import cvlib as cv\n",
        "from sklearn.model_selection import train_test_split\n",
        "import matplotlib.pyplot as plt\n",
        "from keras.models import Model\n",
        "import keras,os\n",
        "from keras.models import Sequential\n",
        "from keras.layers import Dense, Conv2D, MaxPool2D , Flatten,Dropout\n",
        "from keras.preprocessing.image import ImageDataGenerator\n",
        "from tensorflow.keras import layers\n",
        "import tensorflow as tf\n",
        "from tensorflow.keras.utils import img_to_array,array_to_img\n",
        "from tensorflow.keras.models import load_model\n",
        "from google.colab.patches import cv2_imshow\n"
      ]
    },
    {
      "cell_type": "code",
      "execution_count": null,
      "id": "uU3sEOd1o83J",
      "metadata": {
        "colab": {
          "base_uri": "https://localhost:8080/"
        },
        "id": "uU3sEOd1o83J",
        "outputId": "00327f5b-a46f-464b-8381-c3eb1fb1b4e6"
      },
      "outputs": [
        {
          "name": "stdout",
          "output_type": "stream",
          "text": [
            "Drive not mounted, so nothing to flush and unmount.\n",
            "Mounted at /content/drive\n"
          ]
        }
      ],
      "source": [
        "from google.colab import drive\n",
        "drive.flush_and_unmount()\n",
        "drive.mount('/content/drive')"
      ]
    },
    {
      "cell_type": "markdown",
      "id": "M_1TD3ew4FhB",
      "metadata": {
        "id": "M_1TD3ew4FhB"
      },
      "source": [
        "**Dataset Labels**"
      ]
    },
    {
      "cell_type": "code",
      "execution_count": null,
      "id": "yL8dPw5dqWVX",
      "metadata": {
        "id": "yL8dPw5dqWVX"
      },
      "outputs": [],
      "source": [
        "stu_label=np.load('/content/drive/MyDrive/Students_lables/stu_names.npz')\n",
        "stu_label=stu_label.f.arr_0\n"
      ]
    },
    {
      "cell_type": "code",
      "execution_count": null,
      "id": "VwYPph7suyFA",
      "metadata": {
        "colab": {
          "base_uri": "https://localhost:8080/"
        },
        "id": "VwYPph7suyFA",
        "outputId": "74169d45-067e-43d9-c60f-614590a12a1d"
      },
      "outputs": [
        {
          "name": "stdout",
          "output_type": "stream",
          "text": [
            "MD Zunnurain\n",
            "Salman Faizi\n",
            "Ayub Alam\n",
            "Pratap Singha\n",
            "Sayak Mandal\n",
            "D Omkar Murty\n",
            "Rajkumar Maity\n",
            "Rajkumar Roy\n",
            "Raja Chowdhury\n",
            "Ayan Pramanik\n",
            "Sudipta Saha\n",
            "Subarna Das\n",
            "Wrishav Sett\n",
            "Subhadip Samanta\n",
            "Srikanta Pramanik\n",
            "Yuvraj Singh Negi\n",
            "Subhadeep Ghose\n",
            "Sumit Jana\n",
            "Subhajit Paul\n"
          ]
        }
      ],
      "source": [
        "for subd in stu_label:\n",
        "  print(subd)"
      ]
    },
    {
      "cell_type": "markdown",
      "id": "pjLiX8wV4Msu",
      "metadata": {
        "id": "pjLiX8wV4Msu"
      },
      "source": [
        "**Face Recognization on images**"
      ]
    },
    {
      "cell_type": "code",
      "execution_count": null,
      "id": "vI59a9h7rzQz",
      "metadata": {
        "id": "vI59a9h7rzQz"
      },
      "outputs": [],
      "source": [
        "x=np.zeros((4791,160,160,3))\n",
        "y=np.zeros((4791))\n",
        "stu_label_set0=[]"
      ]
    },
    {
      "cell_type": "code",
      "execution_count": null,
      "id": "H6j6mpmkvJvD",
      "metadata": {
        "id": "H6j6mpmkvJvD"
      },
      "outputs": [],
      "source": [
        "path=r'/content/drive/MyDrive/Dataset_DA_AI_Stu_Set2-3/DA_AI_ALL_Frame_set0'\n",
        "\n",
        "count, clas = 0, 0\n",
        "for stu in stu_label:\n",
        "    for images in os.listdir(path+\"/\"+stu):\n",
        "        if (images.endswith(\".jpg\")):\n",
        "            img = cv2.imread(path+\"/\"+stu+\"/\"+images)\n",
        "            face, confidence=cv.detect_face(img)\n",
        "            for idx,f in enumerate(face):\n",
        "              (startx,starty)=f[0],f[1]\n",
        "              (endx,endy)=f[2],f[3]\n",
        "              crop_face=np.copy(img[starty:endy,startx:endx])\n",
        "              if(crop_face.shape[0])<10 or (crop_face.shape[1])<10:\n",
        "                continue\n",
        "            crop_face = cv2.resize(crop_face, (160, 160))\n",
        "            # crop_face=img_to_array(crop_face)\n",
        "            x[count]=crop_face\n",
        "            y[count] = clas\n",
        "            count += 1\n",
        "            print(count)\n",
        "    \n",
        "    stu_label_set0.append(stu)\n",
        "    clas+=1\n",
        "\n",
        "\n"
      ]
    },
    {
      "cell_type": "code",
      "execution_count": null,
      "id": "JCy4NorYrAQ9",
      "metadata": {
        "colab": {
          "base_uri": "https://localhost:8080/"
        },
        "id": "JCy4NorYrAQ9",
        "outputId": "f8e8fcba-864b-4f3a-937b-4a91f0c84335"
      },
      "outputs": [
        {
          "data": {
            "text/plain": [
              "4791"
            ]
          },
          "execution_count": 18,
          "metadata": {},
          "output_type": "execute_result"
        }
      ],
      "source": [
        "count"
      ]
    },
    {
      "cell_type": "markdown",
      "id": "AjqxO4hG4bak",
      "metadata": {
        "id": "AjqxO4hG4bak"
      },
      "source": [
        "**Importing the Dataset from google drive**"
      ]
    },
    {
      "cell_type": "code",
      "execution_count": null,
      "id": "0a0c4c4c",
      "metadata": {
        "id": "0a0c4c4c"
      },
      "outputs": [],
      "source": [
        "path='/content/drive/MyDrive/DATASET_DA_AI_V3/set2'\n",
        "x=np.load(path+'/x_160_cv.npz')\n",
        "x=x.f.arr_0\n",
        "\n",
        "y=np.load(path+'/y_160_cv.npz')\n",
        "y=y.f.arr_0\n",
        "\n",
        "# stu_label=np.load(path+'/label_v2_s2.npz')\n",
        "# stu_label=stu_label.f.arr_0\n",
        "10600,128,128,3\n",
        "10800,1"
      ]
    },
    {
      "cell_type": "markdown",
      "id": "wv2iEmEf4sFw",
      "metadata": {
        "id": "wv2iEmEf4sFw"
      },
      "source": [
        "**Deleting some faces from the dataset**"
      ]
    },
    {
      "cell_type": "code",
      "execution_count": null,
      "id": "H-hyaE0gx4St",
      "metadata": {
        "id": "H-hyaE0gx4St"
      },
      "outputs": [],
      "source": [
        "\n",
        "#delete the image of half of omkar and sayak face image from the dataset as well label\n",
        "count=0\n",
        "for i in range(1180,1408):\n",
        "  if(y[i]==5):\n",
        "    x=np.delete(x,i,0)\n",
        "    y=np.delete(y,i,0)\n",
        "    i+=2\n",
        "    count+=1\n",
        "    print(i)\n",
        "print(count) "
      ]
    },
    {
      "cell_type": "code",
      "execution_count": null,
      "id": "WTZOtufH4ZMp",
      "metadata": {
        "colab": {
          "base_uri": "https://localhost:8080/"
        },
        "id": "WTZOtufH4ZMp",
        "outputId": "11fc4333-4e0b-4415-b6c8-4319bdc92871"
      },
      "outputs": [
        {
          "data": {
            "text/plain": [
              "(3586, 19)"
            ]
          },
          "execution_count": 22,
          "metadata": {},
          "output_type": "execute_result"
        }
      ],
      "source": [
        "y_train.shape"
      ]
    },
    {
      "cell_type": "markdown",
      "id": "trxjRecK46pu",
      "metadata": {
        "id": "trxjRecK46pu"
      },
      "source": [
        "**Saving the new dataset into google drive**"
      ]
    },
    {
      "cell_type": "code",
      "execution_count": null,
      "id": "Rhf7DFY024jf",
      "metadata": {
        "id": "Rhf7DFY024jf"
      },
      "outputs": [],
      "source": [
        "path='/content/drive/MyDrive/DATASET_DA_AI_V3/V1_set3_less_OandS'\n",
        "np.savez_compressed(path+'/x_160_cv',x)\n",
        "np.savez_compressed(path+'/y_160_cv',y)\n"
      ]
    },
    {
      "cell_type": "markdown",
      "id": "7EGs4-JtyMdl",
      "metadata": {
        "id": "7EGs4-JtyMdl"
      },
      "source": [
        "**Spliting the dataset into X_train , X_test, Y_train,Y_test**"
      ]
    },
    {
      "cell_type": "code",
      "execution_count": null,
      "id": "8fbda061",
      "metadata": {
        "id": "8fbda061"
      },
      "outputs": [],
      "source": [
        "x_train,x_test,y_train,y_test=train_test_split(x,y,test_size=0.2)\n",
        "x_train=x_train.astype(np.float32) / 255.0\n",
        "x_test=x_test.astype(np.float32) / 255.0\n",
        "y_train=keras.utils.to_categorical(y_train,num_classes=19)\n",
        "y_test=keras.utils.to_categorical(y_test,num_classes=19)"
      ]
    },
    {
      "cell_type": "markdown",
      "id": "xM1mvYyf5HHP",
      "metadata": {
        "id": "xM1mvYyf5HHP"
      },
      "source": [
        "**Image Augmentation Part**"
      ]
    },
    {
      "cell_type": "code",
      "execution_count": null,
      "id": "A3ZfNhlJsuww",
      "metadata": {
        "id": "A3ZfNhlJsuww"
      },
      "outputs": [],
      "source": [
        "\n",
        "\n",
        "data_augmentation = keras.Sequential(\n",
        "  [\n",
        "    layers.experimental.preprocessing.RandomContrast(factor=[0.2,2.2]),\n",
        "    layers.experimental.preprocessing.RandomTranslation(height_factor=[-0.15,0.3], width_factor=[-0.15,0.3], fill_mode=\"constant\", interpolation='bilinear',fill_value=255),\n",
        "    layers.experimental.preprocessing.RandomFlip(\"horizontal\",input_shape=(160,160,3)),\n",
        "    layers.experimental.preprocessing.RandomRotation(0.1),\n",
        "    layers.experimental.preprocessing.RandomZoom(0.1)\n",
        "  ]\n",
        ")\n",
        "\n"
      ]
    },
    {
      "cell_type": "markdown",
      "id": "i7Qj9Vff5QUJ",
      "metadata": {
        "id": "i7Qj9Vff5QUJ"
      },
      "source": [
        "Checking the **faces** in the dataset"
      ]
    },
    {
      "cell_type": "code",
      "execution_count": null,
      "id": "k0UB2G4iiZuk",
      "metadata": {
        "colab": {
          "base_uri": "https://localhost:8080/",
          "height": 201
        },
        "id": "k0UB2G4iiZuk",
        "outputId": "f570c1f6-7fb8-4af2-cb92-08e80becc38c"
      },
      "outputs": [],
      "source": [
        "def get_pic(x,y,index):\n",
        "  plt.imshow(x[index])\n",
        "  plt.show()\n",
        "  l=np.argmax(y[index])\n",
        "  print(\"Student name: \",stu_label[int(l)])\n",
        "\n",
        "for i in range(500,1050,5):\n",
        "  get_pic(x_train,y_train,i)"
      ]
    },
    {
      "cell_type": "markdown",
      "id": "8xJA7KqO79Mf",
      "metadata": {
        "id": "8xJA7KqO79Mf"
      },
      "source": [
        "**Checking the images after Aplying Image Augmentation**"
      ]
    },
    {
      "cell_type": "code",
      "execution_count": null,
      "id": "D3MBxLrsTXDm",
      "metadata": {
        "id": "D3MBxLrsTXDm"
      },
      "outputs": [],
      "source": [
        "\n",
        "plt.axis('off')\n",
        "plt.imshow(data_augmentation(im_train[0]))"
      ]
    },
    {
      "cell_type": "markdown",
      "id": "41kSQ1AG5X4E",
      "metadata": {
        "id": "41kSQ1AG5X4E"
      },
      "source": [
        "**Row Model Bulding**"
      ]
    },
    {
      "cell_type": "code",
      "execution_count": null,
      "id": "679fE3w6ISJF",
      "metadata": {
        "id": "679fE3w6ISJF"
      },
      "outputs": [],
      "source": [
        "##"
      ]
    },
    {
      "cell_type": "markdown",
      "id": "V7hmxxgl5eu6",
      "metadata": {
        "id": "V7hmxxgl5eu6"
      },
      "source": [
        "**Implementing Transfer Learning**"
      ]
    },
    {
      "cell_type": "code",
      "execution_count": null,
      "id": "Mf8oC0ZQ92wV",
      "metadata": {
        "id": "Mf8oC0ZQ92wV"
      },
      "outputs": [],
      "source": [
        "from keras.applications.vgg16 import VGG16\n",
        "input_size=[160,160,3]\n",
        "vgg=VGG16(input_shape=input_size,weights='imagenet',include_top=False)\n",
        "for layer in vgg.layers:\n",
        "  layer.trainable=False\n",
        "x=Flatten()(vgg.output)\n",
        "prediction=Dense(19,activation='softmax')(x)\n",
        "model=Model(inputs=vgg.input,outputs=prediction)\n",
        "\n",
        "model.compile(loss='categorical_crossentropy',optimizer='adam',metrics=['accuracy'])\n",
        "model.summary()\n"
      ]
    },
    {
      "cell_type": "markdown",
      "id": "h7b9oy8K5rIQ",
      "metadata": {
        "id": "h7b9oy8K5rIQ"
      },
      "source": [
        "**Importing the pre Trained Model**"
      ]
    },
    {
      "cell_type": "code",
      "execution_count": null,
      "id": "mLLKIRMtKUZy",
      "metadata": {
        "id": "mLLKIRMtKUZy"
      },
      "outputs": [],
      "source": [
        "model=load_model('/content/drive/MyDrive/DATASET_DA_AI_V2/DB_V2_set1_V9')\n",
        "# model.summary()"
      ]
    },
    {
      "cell_type": "markdown",
      "id": "VVKYXADw5zQB",
      "metadata": {
        "id": "VVKYXADw5zQB"
      },
      "source": [
        "**Training the Model**"
      ]
    },
    {
      "cell_type": "code",
      "execution_count": null,
      "id": "EEKNvrTBABaB",
      "metadata": {
        "colab": {
          "base_uri": "https://localhost:8080/"
        },
        "id": "EEKNvrTBABaB",
        "outputId": "08da0538-611e-40f3-9ca6-ae67c43feefd"
      },
      "outputs": [
        {
          "name": "stdout",
          "output_type": "stream",
          "text": [
            "Epoch 1/2\n",
            "118/118 [==============================] - 22s 105ms/step - loss: 0.0182 - accuracy: 0.9957 - val_loss: 0.0030 - val_accuracy: 1.0000\n",
            "Epoch 2/2\n",
            "118/118 [==============================] - 10s 88ms/step - loss: 0.0014 - accuracy: 0.9997 - val_loss: 3.0295e-04 - val_accuracy: 1.0000\n"
          ]
        }
      ],
      "source": [
        "history=model.fit(x_train,y_train,validation_split=0.1,epochs=2)"
      ]
    },
    {
      "cell_type": "code",
      "execution_count": null,
      "id": "1iLQdsLXBvgC",
      "metadata": {
        "colab": {
          "base_uri": "https://localhost:8080/",
          "height": 573
        },
        "id": "1iLQdsLXBvgC",
        "outputId": "c19026d6-96e5-44ff-964f-3d6ec5ea424d"
      },
      "outputs": [
        {
          "data": {
            "image/png": "[encoded data removed]",
            "text/plain": [
              "<Figure size 432x288 with 1 Axes>"
            ]
          },
          "metadata": {
            "needs_background": "light"
          },
          "output_type": "display_data"
        },
        {
          "data": {
            "image/png": "[encoded data removed]",
            "text/plain": [
              "<Figure size 432x288 with 1 Axes>"
            ]
          },
          "metadata": {
            "needs_background": "light"
          },
          "output_type": "display_data"
        }
      ],
      "source": [
        "plt.plot(history.history['accuracy'])\n",
        "plt.plot(history.history['val_accuracy'])\n",
        "plt.title('model accuracy')\n",
        "plt.ylabel('accuracy')\n",
        "plt.xlabel('epoch')\n",
        "plt.legend(['train', 'test'], loc='upper left')\n",
        "plt.show()\n",
        "# summarize history for loss\n",
        "plt.plot(history.history['loss'])\n",
        "plt.plot(history.history['val_loss'])\n",
        "plt.title('model loss')\n",
        "plt.ylabel('loss')\n",
        "plt.xlabel('epoch')\n",
        "plt.legend(['train', 'test'], loc='upper left')\n",
        "plt.show()"
      ]
    },
    {
      "cell_type": "markdown",
      "id": "XxXXjDlm57KD",
      "metadata": {
        "id": "XxXXjDlm57KD"
      },
      "source": [
        "**Testing the model on Test Dataset**"
      ]
    },
    {
      "cell_type": "code",
      "execution_count": null,
      "id": "H0-xa4yHDmgh",
      "metadata": {
        "colab": {
          "base_uri": "https://localhost:8080/"
        },
        "id": "H0-xa4yHDmgh",
        "outputId": "4d8966cb-1725-44d0-80e2-575b074812c1"
      },
      "outputs": [
        {
          "name": "stdout",
          "output_type": "stream",
          "text": [
            "131/131 [==============================] - 11s 87ms/step - loss: 2.4749e-04 - accuracy: 1.0000\n"
          ]
        },
        {
          "data": {
            "text/plain": [
              "[0.0002474871289450675, 1.0]"
            ]
          },
          "execution_count": 11,
          "metadata": {},
          "output_type": "execute_result"
        }
      ],
      "source": [
        "model.evaluate(x_train,y_train)"
      ]
    },
    {
      "cell_type": "markdown",
      "id": "nRCUmMYn6Orp",
      "metadata": {
        "id": "nRCUmMYn6Orp"
      },
      "source": [
        "**Saving the Trained Model**"
      ]
    },
    {
      "cell_type": "code",
      "execution_count": null,
      "id": "VvFFUNZpVGDu",
      "metadata": {
        "colab": {
          "base_uri": "https://localhost:8080/"
        },
        "id": "VvFFUNZpVGDu",
        "outputId": "eb7bd111-0ef6-4642-fb4d-6753486ba4b2"
      },
      "outputs": [
        {
          "name": "stderr",
          "output_type": "stream",
          "text": [
            "WARNING:absl:Found untraced functions such as _jit_compiled_convolution_op, _jit_compiled_convolution_op, _jit_compiled_convolution_op, _jit_compiled_convolution_op, _jit_compiled_convolution_op while saving (showing 5 of 13). These functions will not be directly callable after loading.\n"
          ]
        }
      ],
      "source": [
        "model.save('DB_V2_set12_model_V10')"
      ]
    },
    {
      "cell_type": "code",
      "execution_count": null,
      "id": "pTRsHu7bt6ab",
      "metadata": {
        "id": "pTRsHu7bt6ab"
      },
      "outputs": [],
      "source": [
        "import glob"
      ]
    },
    {
      "cell_type": "markdown",
      "id": "HDZNljLh6Wb9",
      "metadata": {
        "id": "HDZNljLh6Wb9"
      },
      "source": [
        "**Testing the Model on Row images**"
      ]
    },
    {
      "cell_type": "code",
      "execution_count": null,
      "id": "TO6azCc1VUdU",
      "metadata": {
        "colab": {
          "base_uri": "https://localhost:8080/",
          "height": 1000
        },
        "id": "TO6azCc1VUdU",
        "outputId": "033f7758-aef2-4789-b42f-9e6043ba9edb"
      },
      "outputs": [],
      "source": [
        "img_list=glob.iglob('/content/drive/MyDrive/prediction_sanp_image/*')\n",
        "for path in img_list:  \n",
        "  img=cv2.imread(path)\n",
        "  face, confidence=cv.detect_face(img)\n",
        "  for idx,f in enumerate(face):\n",
        "          (startx,starty)=f[0],f[1]\n",
        "          (endx,endy)=f[2],f[3]\n",
        "          crop_face=np.copy(img[starty:endy,startx:endx])\n",
        "          if(crop_face.shape[0])<10 or (crop_face.shape[1])<10:\n",
        "              continue\n",
        "  crop_face = cv2.resize(crop_face, (160, 160)).astype(np.float32) / 255.0\n",
        "          # crop_face=img_to_array(crop_face)\n",
        "  crop_face2 = np.expand_dims(crop_face, 0)\n",
        "          #prediction one th face image\n",
        "  out=model.predict(crop_face2)[0]\n",
        "  stu_name=stu_label[np.argmax(out*100)]\n",
        "  acc=np.max(out)\n",
        "  acc=round(acc*100,2)\n",
        "  plt.imshow(crop_face)\n",
        "  plt.show()\n",
        "  print(stu_name+\" with acc: \",acc)"
      ]
    },
    {
      "cell_type": "code",
      "execution_count": null,
      "id": "uDCGvqfyHtqN",
      "metadata": {
        "id": "uDCGvqfyHtqN"
      },
      "outputs": [],
      "source": [
        "get_pic(x_test,y_test,133)"
      ]
    }
  ],
  "metadata": {
    "accelerator": "GPU",
    "colab": {
      "provenance": []
    },
    "gpuClass": "standard",
    "kernelspec": {
      "display_name": "Python 3 (ipykernel)",
      "language": "python",
      "name": "python3"
    },
    "language_info": {
      "codemirror_mode": {
        "name": "ipython",
        "version": 3
      },
      "file_extension": ".py",
      "mimetype": "text/x-python",
      "name": "python",
      "nbconvert_exporter": "python",
      "pygments_lexer": "ipython3",
      "version": "3.9.12"
    }
  },
  "nbformat": 4,
  "nbformat_minor": 5
}
